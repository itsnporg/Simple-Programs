{
 "cells": [
  {
   "cell_type": "code",
   "execution_count": 1,
   "source": [
    "import cv2\n",
    "import mediapipe as mp\n",
    "import time\n",
    "mpDraw = mp.solutions.drawing_utils\n",
    "mpPose = mp.solutions.pose\n",
    "pose = mpPose.Pose()\n",
    "cap =cv2.VideoCapture(0)\n",
    "pTime = 0\n",
    "while True:\n",
    "    success, img = cap.read()\n",
    "    imgRGB = cv2.cvtColor(img, cv2.COLOR_BGR2RGB)\n",
    "    results = pose.process(imgRGB)\n",
    "    # print(results.pose_landmarks)\n",
    "    if results.pose_landmarks:\n",
    "        mpDraw.draw_landmarks(img, results.pose_landmarks, mpPose.POSE_CONNECTIONS)\n",
    "        for id,lm in enumerate(results.pose_landmarks.landmark):\n",
    "            h,w,c=img.shape\n",
    "            cx, cy = int(lm.x*w), int(lm.y*h)\n",
    "             #all point have index.\n",
    "            cv2.circle(img, (cx,cy), 4, (0,0,255), cv2.FILLED)\n",
    "    cTime = time.time()\n",
    "    fps = 1/(cTime-pTime) \n",
    "    pTime = cTime\n",
    "\n",
    "    cv2.putText(img, str(int(fps)),(70,50), cv2.FONT_HERSHEY_PLAIN, 3,(255,0,0),3)\n",
    "    \n",
    "    cv2.imshow('Image',img)\n",
    "    cv2.waitKey(1)\n",
    "\n"
   ],
   "outputs": [
    {
     "output_type": "stream",
     "name": "stderr",
     "text": [
      "INFO: Created TensorFlow Lite XNNPACK delegate for CPU.\n"
     ]
    }
   ],
   "metadata": {}
  }
 ],
 "metadata": {
  "orig_nbformat": 4,
  "language_info": {
   "name": "python",
   "version": "3.9.6",
   "mimetype": "text/x-python",
   "codemirror_mode": {
    "name": "ipython",
    "version": 3
   },
   "pygments_lexer": "ipython3",
   "nbconvert_exporter": "python",
   "file_extension": ".py"
  },
  "kernelspec": {
   "name": "python396jvsc74a57bd07812ea015bdcee6f23a998adcdd2ef97c151c0c241b7b7070987d9313e41299d",
   "display_name": "Python 3.9.6 64-bit ('3.9')",
   "language": "python"
  },
  "interpreter": {
   "hash": "e7370f93d1d0cde622a1f8e1c04877d8463912d04d973331ad4851f04de6915a"
  }
 },
 "nbformat": 4,
 "nbformat_minor": 2
}